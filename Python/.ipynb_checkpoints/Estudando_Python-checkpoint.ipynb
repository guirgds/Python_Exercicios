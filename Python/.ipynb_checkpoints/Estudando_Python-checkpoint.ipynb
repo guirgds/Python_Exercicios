{
 "cells": [
  {
   "cell_type": "code",
   "execution_count": null,
   "id": "042ba665-f618-47ab-aca1-ca795d016267",
   "metadata": {},
   "outputs": [],
   "source": [
    "numero_int = -3 # int\n",
    "#Em python não é nescessário definir o tipo\n",
    "\n",
    "numero_float = 3.5"
   ]
  },
  {
   "cell_type": "code",
   "execution_count": 2,
   "id": "cc022adf-91bc-467a-afb6-08743258fd75",
   "metadata": {},
   "outputs": [
    {
     "name": "stdout",
     "output_type": "stream",
     "text": [
      "Aprendendo Python\n"
     ]
    }
   ],
   "source": [
    "caracter = 'a'\n",
    "palavra = 'Python'\n",
    "palavra_dois = 'Aprendendo'\n",
    "#concatenando strings\n",
    "print(palavra_dois + ' ' + palavra)"
   ]
  },
  {
   "cell_type": "code",
   "execution_count": 3,
   "id": "9601769b-2464-48bb-a37c-471ce13e01cc",
   "metadata": {},
   "outputs": [
    {
     "name": "stdin",
     "output_type": "stream",
     "text": [
      " 15\n"
     ]
    },
    {
     "name": "stdout",
     "output_type": "stream",
     "text": [
      "Sua idade é 15 anos.\n"
     ]
    }
   ],
   "source": [
    "#input para o usuário entrar com os dados \n",
    "idade = int(input())\n",
    "print('Sua idade é',idade, 'anos.')"
   ]
  },
  {
   "cell_type": "code",
   "execution_count": 8,
   "id": "49978596-65f1-47a8-a0de-2a9b6cf47ada",
   "metadata": {},
   "outputs": [
    {
     "name": "stdout",
     "output_type": "stream",
     "text": [
      "casaco\n",
      "CASACO\n",
      "cas\n",
      "casinha\n"
     ]
    }
   ],
   "source": [
    "#Manipulação de string\n",
    "a = 'casaco'\n",
    "print(a)\n",
    "\n",
    "maiuscula = a.upper()\n",
    "print(maiuscula)\n",
    "\n",
    "metade_palavra = a[0:3]\n",
    "print(metade_palavra)\n",
    "\n",
    "b = a.replace('aco', 'inha')\n",
    "print(b)\n"
   ]
  },
  {
   "cell_type": "code",
   "execution_count": null,
   "id": "4fe4c0ec-a867-459e-8ff5-a728cb85f637",
   "metadata": {},
   "outputs": [],
   "source": []
  },
  {
   "cell_type": "code",
   "execution_count": 9,
   "id": "3520e804-cd10-4bcb-a575-e6806fb6c383",
   "metadata": {},
   "outputs": [
    {
     "data": {
      "text/plain": [
       "array([[2, 3, 1],\n",
       "       [4, 5, 7]])"
      ]
     },
     "execution_count": 9,
     "metadata": {},
     "output_type": "execute_result"
    }
   ],
   "source": [
    "#Matrizes\n",
    "import numpy as np\n",
    "\n",
    "matriz = np.array([[2,3,1],[4,5,7]])\n",
    "\n",
    "matriz\n"
   ]
  },
  {
   "cell_type": "code",
   "execution_count": 10,
   "id": "45dc2e9a-0f62-43ec-be00-7761c9833bec",
   "metadata": {},
   "outputs": [
    {
     "data": {
      "text/plain": [
       "(2, 3)"
      ]
     },
     "execution_count": 10,
     "metadata": {},
     "output_type": "execute_result"
    }
   ],
   "source": [
    "matriz.shape"
   ]
  },
  {
   "cell_type": "code",
   "execution_count": 11,
   "id": "53d76279-216a-4d27-a9ed-d45cc10c925b",
   "metadata": {},
   "outputs": [
    {
     "data": {
      "text/plain": [
       "array([2, 3, 1])"
      ]
     },
     "execution_count": 11,
     "metadata": {},
     "output_type": "execute_result"
    }
   ],
   "source": [
    "matriz[0]"
   ]
  },
  {
   "cell_type": "code",
   "execution_count": 12,
   "id": "8dc73403-841c-4ffc-b2d9-79591e9d878d",
   "metadata": {},
   "outputs": [
    {
     "data": {
      "text/plain": [
       "array([4, 5, 7])"
      ]
     },
     "execution_count": 12,
     "metadata": {},
     "output_type": "execute_result"
    }
   ],
   "source": [
    "matriz[1]"
   ]
  },
  {
   "cell_type": "code",
   "execution_count": 13,
   "id": "43799cf2-3a85-4a8a-9292-da268517a473",
   "metadata": {},
   "outputs": [
    {
     "data": {
      "text/plain": [
       "np.int64(2)"
      ]
     },
     "execution_count": 13,
     "metadata": {},
     "output_type": "execute_result"
    }
   ],
   "source": [
    "matriz[0][0]"
   ]
  },
  {
   "cell_type": "code",
   "execution_count": 19,
   "id": "a23f7211-5ce5-4957-a946-dd420c12622c",
   "metadata": {},
   "outputs": [
    {
     "name": "stdout",
     "output_type": "stream",
     "text": [
      "[2 3 1]\n",
      "2\n",
      "3\n",
      "1\n",
      "[4 5 7]\n",
      "4\n",
      "5\n",
      "7\n"
     ]
    }
   ],
   "source": [
    "for i in range(matriz.shape[0]):\n",
    "    print(matriz[i])\n",
    "    for j in range(matriz.shape[1]):\n",
    "        print(matriz[i][j])"
   ]
  },
  {
   "cell_type": "code",
   "execution_count": null,
   "id": "fc24d4a5-477d-4158-a181-88b6a66699ed",
   "metadata": {},
   "outputs": [],
   "source": [
    "#Função sem parâmetros e sem retorno\n",
    "#Essa função apenas executa algo, mas não recebe valores nem retorna nada.\n",
    "def saudacao():\n",
    "    print(\"Olá, tudo bem?\")\n",
    "\n",
    "# Usando a função\n",
    "saudacao()\n"
   ]
  },
  {
   "cell_type": "code",
   "execution_count": null,
   "id": "b002f7a9-47ea-4a89-8f27-ea882df36063",
   "metadata": {},
   "outputs": [],
   "source": [
    "#Função com parâmetros e sem retorno\n",
    "#Recebe valores de entrada (parâmetros), mas não devolve nada, apenas faz alguma ação (como imprimir).\n",
    "def mostrar_dobro(numero):\n",
    "    print(f\"O dobro de {numero} é {numero * 2}\")\n",
    "\n",
    "# Usando a função\n",
    "mostrar_dobro(5)\n",
    "\n"
   ]
  },
  {
   "cell_type": "code",
   "execution_count": null,
   "id": "752eddd3-3d63-41b3-97a3-8acfeea3809f",
   "metadata": {},
   "outputs": [],
   "source": [
    "#Função com parâmetros e com retorno\n",
    "#Essa é a mais completa: recebe valores e retorna um resultado.\n",
    "def soma(a, b):\n",
    "    return a + b\n",
    "\n",
    "# Usando a função\n",
    "resultado = soma(3, 4)\n",
    "print(f\"A soma é: {resultado}\")\n"
   ]
  }
 ],
 "metadata": {
  "kernelspec": {
   "display_name": "Python [conda env:base] *",
   "language": "python",
   "name": "conda-base-py"
  },
  "language_info": {
   "codemirror_mode": {
    "name": "ipython",
    "version": 3
   },
   "file_extension": ".py",
   "mimetype": "text/x-python",
   "name": "python",
   "nbconvert_exporter": "python",
   "pygments_lexer": "ipython3",
   "version": "3.13.5"
  },
  "widgets": {
   "application/vnd.jupyter.widget-state+json": {
    "state": {},
    "version_major": 2,
    "version_minor": 0
   }
  }
 },
 "nbformat": 4,
 "nbformat_minor": 5
}
