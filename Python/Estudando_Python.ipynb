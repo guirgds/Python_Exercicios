{
 "cells": [
  {
   "cell_type": "code",
   "execution_count": null,
   "id": "042ba665-f618-47ab-aca1-ca795d016267",
   "metadata": {},
   "outputs": [],
   "source": [
    "numero_int = -3 # int\n",
    "#Em python não é nescessário definir o tipo\n",
    "\n",
    "numero_float = 3.5"
   ]
  },
  {
   "cell_type": "code",
   "execution_count": 2,
   "id": "cc022adf-91bc-467a-afb6-08743258fd75",
   "metadata": {},
   "outputs": [
    {
     "name": "stdout",
     "output_type": "stream",
     "text": [
      "Aprendendo Python\n"
     ]
    }
   ],
   "source": [
    "caracter = 'a'\n",
    "palavra = 'Python'\n",
    "palavra_dois = 'Aprendendo'\n",
    "#concatenando strings\n",
    "print(palavra_dois + ' ' + palavra)"
   ]
  },
  {
   "cell_type": "code",
   "execution_count": 3,
   "id": "9601769b-2464-48bb-a37c-471ce13e01cc",
   "metadata": {},
   "outputs": [
    {
     "name": "stdin",
     "output_type": "stream",
     "text": [
      " 15\n"
     ]
    },
    {
     "name": "stdout",
     "output_type": "stream",
     "text": [
      "Sua idade é 15 anos.\n"
     ]
    }
   ],
   "source": [
    "#input para o usuário entrar com os dados \n",
    "idade = int(input())\n",
    "print('Sua idade é',idade, 'anos.')"
   ]
  },
  {
   "cell_type": "code",
   "execution_count": 8,
   "id": "49978596-65f1-47a8-a0de-2a9b6cf47ada",
   "metadata": {},
   "outputs": [
    {
     "name": "stdout",
     "output_type": "stream",
     "text": [
      "casaco\n",
      "CASACO\n",
      "cas\n",
      "casinha\n"
     ]
    }
   ],
   "source": [
    "#Manipulação de string\n",
    "a = 'casaco'\n",
    "print(a)\n",
    "\n",
    "maiuscula = a.upper()\n",
    "print(maiuscula)\n",
    "\n",
    "metade_palavra = a[0:3]\n",
    "print(metade_palavra)\n",
    "\n",
    "b = a.replace('aco', 'inha')\n",
    "print(b)\n"
   ]
  },
  {
   "cell_type": "code",
   "execution_count": null,
   "id": "4fe4c0ec-a867-459e-8ff5-a728cb85f637",
   "metadata": {},
   "outputs": [],
   "source": []
  },
  {
   "cell_type": "code",
   "execution_count": 9,
   "id": "3520e804-cd10-4bcb-a575-e6806fb6c383",
   "metadata": {},
   "outputs": [
    {
     "data": {
      "text/plain": [
       "array([[2, 3, 1],\n",
       "       [4, 5, 7]])"
      ]
     },
     "execution_count": 9,
     "metadata": {},
     "output_type": "execute_result"
    }
   ],
   "source": [
    "#Matrizes\n",
    "import numpy as np\n",
    "\n",
    "matriz = np.array([[2,3,1],[4,5,7]])\n",
    "\n",
    "matriz\n"
   ]
  },
  {
   "cell_type": "code",
   "execution_count": 10,
   "id": "45dc2e9a-0f62-43ec-be00-7761c9833bec",
   "metadata": {},
   "outputs": [
    {
     "data": {
      "text/plain": [
       "(2, 3)"
      ]
     },
     "execution_count": 10,
     "metadata": {},
     "output_type": "execute_result"
    }
   ],
   "source": [
    "matriz.shape"
   ]
  },
  {
   "cell_type": "code",
   "execution_count": 11,
   "id": "53d76279-216a-4d27-a9ed-d45cc10c925b",
   "metadata": {},
   "outputs": [
    {
     "data": {
      "text/plain": [
       "array([2, 3, 1])"
      ]
     },
     "execution_count": 11,
     "metadata": {},
     "output_type": "execute_result"
    }
   ],
   "source": [
    "matriz[0]"
   ]
  },
  {
   "cell_type": "code",
   "execution_count": 12,
   "id": "8dc73403-841c-4ffc-b2d9-79591e9d878d",
   "metadata": {},
   "outputs": [
    {
     "data": {
      "text/plain": [
       "array([4, 5, 7])"
      ]
     },
     "execution_count": 12,
     "metadata": {},
     "output_type": "execute_result"
    }
   ],
   "source": [
    "matriz[1]"
   ]
  },
  {
   "cell_type": "code",
   "execution_count": 13,
   "id": "43799cf2-3a85-4a8a-9292-da268517a473",
   "metadata": {},
   "outputs": [
    {
     "data": {
      "text/plain": [
       "np.int64(2)"
      ]
     },
     "execution_count": 13,
     "metadata": {},
     "output_type": "execute_result"
    }
   ],
   "source": [
    "matriz[0][0]"
   ]
  },
  {
   "cell_type": "code",
   "execution_count": 19,
   "id": "a23f7211-5ce5-4957-a946-dd420c12622c",
   "metadata": {},
   "outputs": [
    {
     "name": "stdout",
     "output_type": "stream",
     "text": [
      "[2 3 1]\n",
      "2\n",
      "3\n",
      "1\n",
      "[4 5 7]\n",
      "4\n",
      "5\n",
      "7\n"
     ]
    }
   ],
   "source": [
    "for i in range(matriz.shape[0]):\n",
    "    print(matriz[i])\n",
    "    for j in range(matriz.shape[1]):\n",
    "        print(matriz[i][j])"
   ]
  },
  {
   "cell_type": "code",
   "execution_count": null,
   "id": "fc24d4a5-477d-4158-a181-88b6a66699ed",
   "metadata": {},
   "outputs": [],
   "source": [
    "#Função sem parâmetros e sem retorno\n",
    "#Essa função apenas executa algo, mas não recebe valores nem retorna nada.\n",
    "def saudacao():\n",
    "    print(\"Olá, tudo bem?\")\n",
    "\n",
    "# Usando a função\n",
    "saudacao()\n"
   ]
  },
  {
   "cell_type": "code",
   "execution_count": null,
   "id": "b002f7a9-47ea-4a89-8f27-ea882df36063",
   "metadata": {},
   "outputs": [],
   "source": [
    "#Função com parâmetros e sem retorno\n",
    "#Recebe valores de entrada (parâmetros), mas não devolve nada, apenas faz alguma ação (como imprimir).\n",
    "def mostrar_dobro(numero):\n",
    "    print(f\"O dobro de {numero} é {numero * 2}\")\n",
    "\n",
    "# Usando a função\n",
    "mostrar_dobro(5)\n",
    "\n"
   ]
  },
  {
   "cell_type": "code",
   "execution_count": null,
   "id": "752eddd3-3d63-41b3-97a3-8acfeea3809f",
   "metadata": {},
   "outputs": [],
   "source": [
    "#Função com parâmetros e com retorno\n",
    "#Essa é a mais completa: recebe valores e retorna um resultado.\n",
    "def soma(a, b):\n",
    "    return a + b\n",
    "\n",
    "# Usando a função\n",
    "resultado = soma(3, 4)\n",
    "print(f\"A soma é: {resultado}\")\n"
   ]
  },
  {
   "cell_type": "markdown",
   "id": "03923118-26a6-40de-9719-2751f395f200",
   "metadata": {},
   "source": [
    "# 📐 Módulo `math` em Python\n",
    "\n",
    "O módulo `math` fornece acesso a funções matemáticas definidas pelo padrão C. Ele é útil para cálculos matemáticos mais avançados que vão além das operações básicas.\n",
    "\n",
    "Documentação oficial: [https://docs.python.org/pt-br/3/library/math.html](https://docs.python.org/pt-br/3/library/math.html)\n",
    "\n",
    "---\n",
    "\n",
    "## ✅ Importação do Módulo\n",
    "\n",
    "```python\n",
    "import math\n"
   ]
  },
  {
   "cell_type": "code",
   "execution_count": 9,
   "id": "03aa97d9-8452-4105-813d-d0db07fbf6b4",
   "metadata": {},
   "outputs": [
    {
     "data": {
      "text/plain": [
       "3.0"
      ]
     },
     "execution_count": 9,
     "metadata": {},
     "output_type": "execute_result"
    }
   ],
   "source": [
    "#Biblioteca Math\n",
    "https://docs.python.org/pt-br/3/library/math.html\n",
    "import math\n",
    "\n",
    "math.sqrt(9)"
   ]
  },
  {
   "cell_type": "code",
   "execution_count": 3,
   "id": "ecdefb04-e394-4175-b1cc-ffdb22797d1b",
   "metadata": {},
   "outputs": [
    {
     "data": {
      "text/plain": [
       "0.8509035245341184"
      ]
     },
     "execution_count": 3,
     "metadata": {},
     "output_type": "execute_result"
    }
   ],
   "source": [
    "math.sin(45)"
   ]
  },
  {
   "cell_type": "code",
   "execution_count": 4,
   "id": "ecc9bd69-e810-4cf6-9c48-f31f0726d025",
   "metadata": {},
   "outputs": [
    {
     "data": {
      "text/plain": [
       "0.5253219888177297"
      ]
     },
     "execution_count": 4,
     "metadata": {},
     "output_type": "execute_result"
    }
   ],
   "source": [
    "math.cos(45)"
   ]
  },
  {
   "cell_type": "code",
   "execution_count": 5,
   "id": "6bcc3cd5-42c3-4f20-bdcf-ccbf5c676886",
   "metadata": {},
   "outputs": [
    {
     "data": {
      "text/plain": [
       "2.9999999999999996"
      ]
     },
     "execution_count": 5,
     "metadata": {},
     "output_type": "execute_result"
    }
   ],
   "source": [
    "math.log(1000, 10)"
   ]
  },
  {
   "cell_type": "code",
   "execution_count": 6,
   "id": "00272e5d-3f21-4dd2-9f52-c06182773d1c",
   "metadata": {},
   "outputs": [
    {
     "data": {
      "text/plain": [
       "5.0"
      ]
     },
     "execution_count": 6,
     "metadata": {},
     "output_type": "execute_result"
    }
   ],
   "source": [
    "math.log(32, 2)"
   ]
  },
  {
   "cell_type": "code",
   "execution_count": 7,
   "id": "4bd57e00-2df3-45d6-81a5-1ff47d50d7c7",
   "metadata": {},
   "outputs": [
    {
     "data": {
      "text/plain": [
       "2.718281828459045"
      ]
     },
     "execution_count": 7,
     "metadata": {},
     "output_type": "execute_result"
    }
   ],
   "source": [
    "#numero euler \n",
    "math.e"
   ]
  },
  {
   "cell_type": "markdown",
   "id": "876c2586-2e21-4768-b388-9566c9933942",
   "metadata": {},
   "source": [
    "# 📅 Módulo `datetime` em Python\n",
    "\n",
    "O módulo `datetime` fornece classes para manipulação de datas e horas de forma simples e complexa.\n",
    "\n",
    "📄 Documentação Oficial:  \n",
    "[https://docs.python.org/pt-br/3.13/library/datetime.html](https://docs.python.org/pt-br/3.13/library/datetime.html)\n",
    "\n",
    "---\n",
    "\n",
    "## ✅ Importação\n",
    "\n",
    "```python\n",
    "import datetime\n"
   ]
  },
  {
   "cell_type": "code",
   "execution_count": 11,
   "id": "ccdc50a2-5fdd-4056-ae88-c3cbb7290d80",
   "metadata": {},
   "outputs": [
    {
     "data": {
      "text/plain": [
       "['MAXYEAR',\n",
       " 'MINYEAR',\n",
       " 'UTC',\n",
       " '__all__',\n",
       " '__builtins__',\n",
       " '__cached__',\n",
       " '__doc__',\n",
       " '__file__',\n",
       " '__loader__',\n",
       " '__name__',\n",
       " '__package__',\n",
       " '__spec__',\n",
       " 'date',\n",
       " 'datetime',\n",
       " 'datetime_CAPI',\n",
       " 'time',\n",
       " 'timedelta',\n",
       " 'timezone',\n",
       " 'tzinfo']"
      ]
     },
     "execution_count": 11,
     "metadata": {},
     "output_type": "execute_result"
    }
   ],
   "source": [
    "import datetime\n",
    "dir(datetime)"
   ]
  },
  {
   "cell_type": "code",
   "execution_count": 12,
   "id": "ab222026-3acb-4e01-8eb1-0ed2bb2184cc",
   "metadata": {},
   "outputs": [
    {
     "data": {
      "text/plain": [
       "datetime.date(2025, 7, 3)"
      ]
     },
     "execution_count": 12,
     "metadata": {},
     "output_type": "execute_result"
    }
   ],
   "source": [
    "datetime.date.today()"
   ]
  },
  {
   "cell_type": "code",
   "execution_count": 13,
   "id": "8891d58b-4997-46c8-be78-f0bf929ab25a",
   "metadata": {},
   "outputs": [
    {
     "data": {
      "text/plain": [
       "datetime.datetime(2025, 7, 3, 11, 25, 26, 317400)"
      ]
     },
     "execution_count": 13,
     "metadata": {},
     "output_type": "execute_result"
    }
   ],
   "source": [
    "datetime.datetime.now()"
   ]
  },
  {
   "cell_type": "code",
   "execution_count": 15,
   "id": "e8704901-1446-4df8-80fa-a5d9bea637c3",
   "metadata": {},
   "outputs": [],
   "source": [
    "data = datetime.date(2020, 7, 10)"
   ]
  },
  {
   "cell_type": "code",
   "execution_count": 16,
   "id": "976b9b2a-eb34-4f15-b5a7-6dc86313cb00",
   "metadata": {},
   "outputs": [
    {
     "data": {
      "text/plain": [
       "datetime.date(2020, 7, 10)"
      ]
     },
     "execution_count": 16,
     "metadata": {},
     "output_type": "execute_result"
    }
   ],
   "source": [
    "data"
   ]
  },
  {
   "cell_type": "code",
   "execution_count": 17,
   "id": "1b2a69e5-e9de-4c68-8bdf-826ad1ee9f53",
   "metadata": {},
   "outputs": [
    {
     "data": {
      "text/plain": [
       "10"
      ]
     },
     "execution_count": 17,
     "metadata": {},
     "output_type": "execute_result"
    }
   ],
   "source": [
    "data.day"
   ]
  },
  {
   "cell_type": "markdown",
   "id": "397efad7-0c10-432f-833e-0747ca2c8474",
   "metadata": {},
   "source": [
    "# 🎲 Módulo `random` em Python\n",
    "\n",
    "O módulo `random` implementa geradores de números pseudoaleatórios para várias distribuições.\n",
    "\n",
    "📄 Documentação Oficial:  \n",
    "[https://docs.python.org/3/library/random.html](https://docs.python.org/3/library/random.html)\n",
    "\n",
    "---\n",
    "\n",
    "## ✅ Importação\n",
    "\n",
    "```python\n",
    "import random\n"
   ]
  },
  {
   "cell_type": "code",
   "execution_count": 18,
   "id": "6790daad-9378-4665-9375-a8a1906808f7",
   "metadata": {},
   "outputs": [
    {
     "data": {
      "text/plain": [
       "0.8772881804730036"
      ]
     },
     "execution_count": 18,
     "metadata": {},
     "output_type": "execute_result"
    }
   ],
   "source": [
    "import random \n",
    "random.random()"
   ]
  },
  {
   "cell_type": "code",
   "execution_count": 20,
   "id": "110a7707-f330-4a88-a501-d16666e7a7b4",
   "metadata": {},
   "outputs": [
    {
     "data": {
      "text/plain": [
       "8"
      ]
     },
     "execution_count": 20,
     "metadata": {},
     "output_type": "execute_result"
    }
   ],
   "source": [
    "random.randint(1,10)"
   ]
  },
  {
   "cell_type": "code",
   "execution_count": 22,
   "id": "c2e82eb1-b663-49bf-9b41-c3bd398f41b8",
   "metadata": {},
   "outputs": [
    {
     "data": {
      "text/plain": [
       "2"
      ]
     },
     "execution_count": 22,
     "metadata": {},
     "output_type": "execute_result"
    }
   ],
   "source": [
    "random.randrange(0, 10, 2) "
   ]
  },
  {
   "cell_type": "code",
   "execution_count": 23,
   "id": "14e249aa-594b-4330-a0ea-06fb8ca1128d",
   "metadata": {},
   "outputs": [
    {
     "data": {
      "text/plain": [
       "13"
      ]
     },
     "execution_count": 23,
     "metadata": {},
     "output_type": "execute_result"
    }
   ],
   "source": [
    "x = ['X', 'D', 13, 17, 'x']\n",
    "random.choice(x)"
   ]
  },
  {
   "cell_type": "markdown",
   "id": "374d66b4-c271-4cdc-b971-f428f6082948",
   "metadata": {},
   "source": [
    "import time\n",
    "\n",
    "# Pegar o horário atual\n",
    "agora = time.localtime()\n",
    "print(\"Ano:\", agora.tm_year)\n",
    "print(\"Hora:\", agora.tm_hour)\n",
    "\n",
    "# Formatar para string\n",
    "data_formatada = time.strftime('%d/%m/%Y %H:%M:%S', agora)\n",
    "print(\"Data e hora formatada:\", data_formatada)\n",
    "\n",
    "# Pausar execução\n",
    "print(\"Esperando 3 segundos...\")\n",
    "time.sleep(3)\n",
    "print(\"Continuando!\")\n"
   ]
  },
  {
   "cell_type": "code",
   "execution_count": 24,
   "id": "7446b578-d9d0-4074-b558-e93f84487755",
   "metadata": {},
   "outputs": [
    {
     "data": {
      "text/plain": [
       "1751554839.1960266"
      ]
     },
     "execution_count": 24,
     "metadata": {},
     "output_type": "execute_result"
    }
   ],
   "source": [
    "import time as tm\n",
    "tm.time()"
   ]
  },
  {
   "cell_type": "code",
   "execution_count": 26,
   "id": "51c50796-8c8b-4e17-96d2-a8aeeb370ed8",
   "metadata": {},
   "outputs": [
    {
     "name": "stdout",
     "output_type": "stream",
     "text": [
      "Tempo: 0.009853839874267578 segundos\n"
     ]
    }
   ],
   "source": [
    "antes=tm.time()\n",
    "lista = []\n",
    "for i in range(0, 100000):\n",
    "    lista.append(i)\n",
    "\n",
    "depois= tm.time()\n",
    "\n",
    "intervalo = depois - antes\n",
    "print(f'Tempo: {intervalo} segundos')"
   ]
  },
  {
   "cell_type": "markdown",
   "id": "956a545a-a96f-4acb-a9fb-ad03361c56ec",
   "metadata": {},
   "source": [
    "# Como carregar arquivos `.py` no Jupyter Notebook\n",
    "\n",
    "- 🚀 **Quer algo rápido e direto como no Google Colab?**  \n",
    "  Use o comando mágico `%run` para executar o arquivo `.py` diretamente no notebook:  \n",
    "  ```python\n",
    "  %run caminho/do/arquivo.py\n",
    "Isso carrega todas as funções e variáveis do arquivo na sua sessão atual.\n",
    "\n",
    "📦 Quer organização e reaproveitamento?\n",
    "Prefira usar import para carregar seus módulos:\n",
    "\n",
    "python\n",
    "Copiar\n",
    "Editar\n",
    "import nome_do_arquivo\n",
    "# ou\n",
    "from nome_do_arquivo import funcao_especifica\n",
    "\n",
    "Assim, seu código fica modular, fácil de manter e reutilizar em vários notebooks e projetos."
   ]
  },
  {
   "cell_type": "code",
   "execution_count": 31,
   "id": "f0afa6d0-aa77-4d28-b603-282780eedb47",
   "metadata": {},
   "outputs": [
    {
     "data": {
      "text/plain": [
       "'Olá, Guilherme! Seja bem-vindo ao Jupyter.'"
      ]
     },
     "execution_count": 31,
     "metadata": {},
     "output_type": "execute_result"
    }
   ],
   "source": [
    "import saudacao as sd \n",
    "sd.saudacao('Guilherme')"
   ]
  },
  {
   "cell_type": "code",
   "execution_count": 32,
   "id": "dd9bd6ba-c80d-433a-af19-ec77c1f8532b",
   "metadata": {},
   "outputs": [
    {
     "name": "stdout",
     "output_type": "stream",
     "text": [
      "saudacao está na pasta Python\n"
     ]
    }
   ],
   "source": [
    "print('saudacao está na pasta Python' )"
   ]
  },
  {
   "cell_type": "markdown",
   "id": "b8eee196-44ba-42d1-b5d0-1566f500b18d",
   "metadata": {},
   "source": [
    "# 🚨 Tratamento de Erros e Exceções em Python\n",
    "\n",
    "Em Python, erros e exceções são eventos que ocorrem durante a execução de um programa, que interrompem seu fluxo normal. O tratamento adequado desses erros é fundamental para garantir que o programa continue funcionando ou informe o problema de forma clara.\n",
    "\n",
    "---\n",
    "\n",
    "## ⚠️ Diferença entre Erro e Exceção\n",
    "\n",
    "- **Erro**: Problema no código que geralmente impede o programa de rodar (ex.: erro de sintaxe).\n",
    "- **Exceção**: Evento que ocorre durante a execução (runtime), podendo ser tratado para evitar que o programa pare.\n",
    "\n",
    "---\n",
    "\n",
    "## 🛠️ Blocos para Tratamento de Exceções\n",
    "- NameError: variável nao foi definida\n",
    "- TypeError: tipos de dados incompatíveis\n",
    "- RuntimeError: erro de execução\n",
    "- SyntaxError: sintaxe digitada é inválida e não reconhecida pelo interpretador\n",
    "- ZeroDivisorError: divisão por zero\n",
    "- IndexError: índice está fora da coleção\n",
    "\n",
    "### `try` e `except`\n",
    "\n",
    "```python\n",
    "try:\n",
    "    # Código que pode gerar uma exceção\n",
    "    resultado = 10 / 0\n",
    "except ZeroDivisionError:\n",
    "    # Código para tratar a exceção específica\n",
    "    print(\"Não é possível dividir por zero!\")\n"
   ]
  },
  {
   "cell_type": "code",
   "execution_count": 33,
   "id": "230f76aa-0514-4df7-979a-475f35e47dbd",
   "metadata": {},
   "outputs": [
    {
     "ename": "SyntaxError",
     "evalue": "cannot assign to literal here. Maybe you meant '==' instead of '='? (732916017.py, line 1)",
     "output_type": "error",
     "traceback": [
      "\u001b[1;36m  Cell \u001b[1;32mIn[33], line 1\u001b[1;36m\u001b[0m\n\u001b[1;33m    3 = 4\u001b[0m\n\u001b[1;37m    ^\u001b[0m\n\u001b[1;31mSyntaxError\u001b[0m\u001b[1;31m:\u001b[0m cannot assign to literal here. Maybe you meant '==' instead of '='?\n"
     ]
    }
   ],
   "source": [
    "3 = 4"
   ]
  },
  {
   "cell_type": "code",
   "execution_count": 34,
   "id": "93dac233-e621-40e4-ac47-4e3b4fbf3829",
   "metadata": {},
   "outputs": [
    {
     "ename": "ZeroDivisionError",
     "evalue": "division by zero",
     "output_type": "error",
     "traceback": [
      "\u001b[1;31m---------------------------------------------------------------------------\u001b[0m",
      "\u001b[1;31mZeroDivisionError\u001b[0m                         Traceback (most recent call last)",
      "Cell \u001b[1;32mIn[34], line 1\u001b[0m\n\u001b[1;32m----> 1\u001b[0m \u001b[38;5;28mprint\u001b[39m (\u001b[38;5;241m3\u001b[39m \u001b[38;5;241m/\u001b[39m \u001b[38;5;241m0\u001b[39m)\n",
      "\u001b[1;31mZeroDivisionError\u001b[0m: division by zero"
     ]
    }
   ],
   "source": [
    "print (3 / 0)"
   ]
  },
  {
   "cell_type": "code",
   "execution_count": 35,
   "id": "ad793932-778f-4a9a-8cc4-8e7b97c1a706",
   "metadata": {},
   "outputs": [
    {
     "ename": "NameError",
     "evalue": "name 'nome' is not defined",
     "output_type": "error",
     "traceback": [
      "\u001b[1;31m---------------------------------------------------------------------------\u001b[0m",
      "\u001b[1;31mNameError\u001b[0m                                 Traceback (most recent call last)",
      "Cell \u001b[1;32mIn[35], line 1\u001b[0m\n\u001b[1;32m----> 1\u001b[0m \u001b[38;5;28mprint\u001b[39m(nome)\n",
      "\u001b[1;31mNameError\u001b[0m: name 'nome' is not defined"
     ]
    }
   ],
   "source": [
    "print(nome)"
   ]
  },
  {
   "cell_type": "code",
   "execution_count": 36,
   "id": "73a6ba67-2a2c-458a-8565-89938c3f92b9",
   "metadata": {},
   "outputs": [
    {
     "ename": "NameError",
     "evalue": "name 'cachorro' is not defined",
     "output_type": "error",
     "traceback": [
      "\u001b[1;31m---------------------------------------------------------------------------\u001b[0m",
      "\u001b[1;31mNameError\u001b[0m                                 Traceback (most recent call last)",
      "Cell \u001b[1;32mIn[36], line 1\u001b[0m\n\u001b[1;32m----> 1\u001b[0m \u001b[38;5;241m2.3\u001b[39m \u001b[38;5;241m/\u001b[39m cachorro\n",
      "\u001b[1;31mNameError\u001b[0m: name 'cachorro' is not defined"
     ]
    }
   ],
   "source": [
    "2.3 / cachorro"
   ]
  },
  {
   "cell_type": "code",
   "execution_count": 37,
   "id": "7196cf97-8044-409f-8e86-8c7e1cc3b5c0",
   "metadata": {},
   "outputs": [
    {
     "ename": "IndexError",
     "evalue": "list index out of range",
     "output_type": "error",
     "traceback": [
      "\u001b[1;31m---------------------------------------------------------------------------\u001b[0m",
      "\u001b[1;31mIndexError\u001b[0m                                Traceback (most recent call last)",
      "Cell \u001b[1;32mIn[37], line 2\u001b[0m\n\u001b[0;32m      1\u001b[0m c \u001b[38;5;241m=\u001b[39m [\u001b[38;5;241m1\u001b[39m,\u001b[38;5;241m2\u001b[39m,\u001b[38;5;241m3\u001b[39m,\u001b[38;5;241m4\u001b[39m,\u001b[38;5;241m5\u001b[39m]\n\u001b[1;32m----> 2\u001b[0m c[\u001b[38;5;241m5\u001b[39m]\n",
      "\u001b[1;31mIndexError\u001b[0m: list index out of range"
     ]
    }
   ],
   "source": [
    "c = [1,2,3,4,5]\n",
    "c[5]"
   ]
  },
  {
   "cell_type": "code",
   "execution_count": 39,
   "id": "e6a22e00-f770-43e6-9a63-828a7bcf4a3d",
   "metadata": {},
   "outputs": [
    {
     "name": "stdin",
     "output_type": "stream",
     "text": [
      "Digite um número inteiro f\n"
     ]
    },
    {
     "name": "stdout",
     "output_type": "stream",
     "text": [
      "Valor inválido\n"
     ]
    }
   ],
   "source": [
    "try:\n",
    "    n = int(input('Digite um número inteiro'))\n",
    "except:\n",
    "    print('Valor inválido')\n",
    "else:\n",
    "    print(f'valor digitado é {n}')\n"
   ]
  },
  {
   "cell_type": "code",
   "execution_count": 41,
   "id": "409beb1c-1f83-4f73-90f1-e395a47fc317",
   "metadata": {},
   "outputs": [
    {
     "name": "stdin",
     "output_type": "stream",
     "text": [
      "Digite um número inteiro f\n"
     ]
    },
    {
     "name": "stdout",
     "output_type": "stream",
     "text": [
      "Valor inválido\n"
     ]
    },
    {
     "name": "stdin",
     "output_type": "stream",
     "text": [
      "Digite um número inteiro f\n"
     ]
    },
    {
     "name": "stdout",
     "output_type": "stream",
     "text": [
      "Valor inválido\n"
     ]
    },
    {
     "name": "stdin",
     "output_type": "stream",
     "text": [
      "Digite um número inteiro f\n"
     ]
    },
    {
     "name": "stdout",
     "output_type": "stream",
     "text": [
      "Valor inválido\n"
     ]
    },
    {
     "name": "stdin",
     "output_type": "stream",
     "text": [
      "Digite um número inteiro f\n"
     ]
    },
    {
     "name": "stdout",
     "output_type": "stream",
     "text": [
      "Valor inválido\n"
     ]
    },
    {
     "name": "stdin",
     "output_type": "stream",
     "text": [
      "Digite um número inteiro f\n"
     ]
    },
    {
     "name": "stdout",
     "output_type": "stream",
     "text": [
      "Valor inválido\n"
     ]
    },
    {
     "name": "stdin",
     "output_type": "stream",
     "text": [
      "Digite um número inteiro 4\n"
     ]
    },
    {
     "name": "stdout",
     "output_type": "stream",
     "text": [
      "valor digitado é 4\n"
     ]
    }
   ],
   "source": [
    "while True:\n",
    "    try:\n",
    "        n = int(input('Digite um número inteiro'))\n",
    "    except:\n",
    "        print('Valor inválido')\n",
    "    else:\n",
    "        print(f'valor digitado é {n}')\n",
    "        break\n"
   ]
  },
  {
   "cell_type": "markdown",
   "id": "17a75ee9-1ffc-4361-94fa-9cc63db09830",
   "metadata": {},
   "source": [
    "# 📄 Manipulação de Arquivos em Python\n",
    "\n",
    "A manipulação de arquivos em Python permite criar, ler, escrever e modificar arquivos de texto ou binários de forma simples e eficiente.\n",
    "\n",
    "---\n",
    "\n",
    "## 📌 Abrindo Arquivos com `open()`\n",
    "\n",
    "```python\n",
    "arquivo = open('exemplo.txt', 'modo')\n",
    "\n",
    "\n",
    "Modo\tDescrição\n",
    "'r'\tLeitura (padrão)\n",
    "'w'\tEscrita (sobrescreve o arquivo)\n",
    "'a'\tAcrescenta (append)\n",
    "'x'\tCria novo arquivo, erro se já existir\n",
    "'b'\tModo binário\n",
    "'t'\tModo texto (padrão)\n",
    "\n",
    "📖 Lendo Arquivos\n",
    "Ler todo o conteúdo:\n",
    "python\n",
    "Copiar\n",
    "Editar\n",
    "with open('exemplo.txt', 'r') as f:\n",
    "    conteudo = f.read()\n",
    "    print(conteudo)"
   ]
  },
  {
   "cell_type": "code",
   "execution_count": null,
   "id": "319ea2b1-3414-4ddd-aa6a-c19e9dd70ef1",
   "metadata": {},
   "outputs": [],
   "source": []
  },
  {
   "cell_type": "markdown",
   "id": "19c44074-ef92-4375-81d8-b1fc4b84561a",
   "metadata": {},
   "source": [
    "# 🔍 Expressões Regulares (Regex) em Python\n",
    "\n",
    "Expressões Regulares (Regex) são padrões usados para buscar, validar ou manipular textos. Em Python, o módulo responsável é o `re`.\n",
    "\n",
    "---\n",
    "\n",
    "## ✅ Importação\n",
    "\n",
    "```python\n",
    "import re\n",
    "\n",
    "## 🛠️ Funções Básicas do Módulo `re`\n",
    "\n",
    "| Função | Descrição | Exemplo |\n",
    "|--------|-----------|---------|\n",
    "| `re.match(padrao, texto)` | Verifica se o texto **começa** com o padrão | `re.match(r'\\d+', '123abc')` |\n",
    "| `re.search(padrao, texto)` | Procura o padrão em **qualquer parte** do texto | `re.search(r'\\d+', 'abc123')` |\n",
    "| `re.findall(padrao, texto)` | Retorna **todas** as ocorrências encontradas | `re.findall(r'\\d+', 'abc123def456')` |\n",
    "| `re.sub(padrao, substituto, texto)` | Substitui as ocorrências do padrão | `re.sub(r'\\d+', '#', 'abc123')` |\n",
    "\n",
    "\n",
    "\n",
    "## 📝 Principais Metacaracteres\n",
    "\n",
    "| Símbolo | Significado | Exemplo |\n",
    "|---------|------------|---------|\n",
    "| `.`     | Qualquer caractere (exceto `\\n`) | `a.b` → casa com `acb`, `arb` |\n",
    "| `^`     | Início da string | `^Olá` → casa com strings que começam com \"Olá\" |\n",
    "| `$`     | Fim da string | `fim$` → casa com strings que terminam com \"fim\" |\n",
    "| `*`     | Zero ou mais repetições | `ab*` → casa com `a`, `ab`, `abb`, `abbb` |\n",
    "| `+`     | Uma ou mais repetições | `ab+` → casa com `ab`, `abb`, `abbb` |\n",
    "| `?`     | Zero ou uma repetição | `ab?` → casa com `a` ou `ab` |\n",
    "| `{n}`   | Exatamente n repetições | `\\d{4}` → casa com 4 dígitos (ex.: ano) |\n",
    "| `{n,}`  | Pelo menos n repetições | `\\d{2,}` → casa com dois ou mais dígitos |\n",
    "| `{n,m}` | Entre n e m repetições | `\\d{2,4}` → casa com de 2 a 4 dígitos |\n",
    "| `[]`    | Conjunto de caracteres | `[aeiou]` → casa com qualquer vogal |\n",
    "| `|`     | Ou (alternativa) | `gato|cachorro` → casa com \"gato\" ou \"cachorro\" |\n",
    "| `()`    | Agrupamento | `(abc)+` → casa com `abc`, `abcabc`, etc. |\n",
    "\n",
    "\n",
    "\n",
    "## 🅰️ Principais Sequências Especiais\n",
    "\n",
    "| Código | Significado | Exemplo |\n",
    "|--------|------------|---------|\n",
    "| `\\d`   | Qualquer dígito (0-9) | Casa com números como `0`, `5`, `9` |\n",
    "| `\\D`   | Qualquer caractere que **não** seja dígito | Casa com letras, símbolos, espaços |\n",
    "| `\\w`   | Caractere alfanumérico (`a-z`, `A-Z`, `0-9`, `_`) | Casa com `a`, `Z`, `3`, `_` |\n",
    "| `\\W`   | Qualquer caractere que **não** seja alfanumérico | Casa com `@`, `#`, espaço |\n",
    "| `\\s`   | Qualquer espaço em branco (espaço, tab, nova linha) | Casa com `' '` ou `\\t` ou `\\n` |\n",
    "| `\\S`   | Qualquer caractere que **não** seja espaço | Casa com qualquer caractere visível |\n"
   ]
  },
  {
   "cell_type": "code",
   "execution_count": null,
   "id": "55f8bfe1-91d5-44e6-b0fb-9f04ef271641",
   "metadata": {},
   "outputs": [],
   "source": []
  },
  {
   "cell_type": "markdown",
   "id": "86e29c2c-6caa-4bd9-a4a8-116cd80a295a",
   "metadata": {},
   "source": [
    "# 🧩 Orientação a Objetos (POO) em Python\n",
    "\n",
    "A Programação Orientada a Objetos (POO) é um paradigma que organiza o código em torno de **objetos**, que são instâncias de **classes**.\n",
    "\n",
    "---\n",
    "\n",
    "## 🔑 Conceitos Básicos\n",
    "\n",
    "| Conceito | Descrição |\n",
    "|----------|-----------|\n",
    "| **Classe** | Molde ou estrutura que define as características e comportamentos de um objeto. |\n",
    "| **Objeto** | Instância de uma classe (algo concreto criado a partir de uma classe). |\n",
    "| **Atributos** | Variáveis associadas a uma classe ou objeto. |\n",
    "| **Métodos** | Funções definidas dentro de uma classe. |\n",
    "| **Construtor (`__init__`)** | Método especial chamado automaticamente ao criar um objeto. |\n",
    "\n",
    "---\n",
    "\n",
    "## 📝 Criando uma Classe e Objeto\n",
    "\n",
    "```python\n",
    "class Pessoa:\n",
    "    def __init__(self, nome, idade):\n",
    "        self.nome = nome\n",
    "        self.idade = idade\n",
    "\n",
    "    def apresentar(self):\n",
    "        print(f\"Olá, meu nome é {self.nome} e tenho {self.idade} anos.\")\n",
    "\n",
    "# Criando um objeto\n",
    "p1 = Pessoa(\"Maria\", 30)\n",
    "p1.apresentar()\n",
    "\n",
    "\n",
    "## 🔐 Encapsulamento\n",
    "\n",
    "Controla o acesso aos atributos e métodos de uma classe.\n",
    "\n",
    "```python\n",
    "class ContaBancaria:\n",
    "    def __init__(self, titular, saldo):\n",
    "        self.titular = titular\n",
    "        self.__saldo = saldo  # atributo privado\n",
    "\n",
    "    def ver_saldo(self):\n",
    "        print(f\"Saldo de {self.titular}: R$ {self.__saldo:.2f}\")\n",
    "\n",
    "conta = ContaBancaria(\"João\", 1000)\n",
    "conta.ver_saldo()\n",
    "Atenção: Atributos com __nome são considerados privados (não devem ser acessados diretamente fora da classe).\n",
    "\n",
    "## 🔄 Herança\n",
    "\n",
    "Permite criar novas classes baseadas em classes existentes.\n",
    "\n",
    "```python\n",
    "class Animal:\n",
    "    def __init__(self, nome):\n",
    "        self.nome = nome\n",
    "\n",
    "    def falar(self):\n",
    "        print(\"Som indefinido\")\n",
    "\n",
    "class Cachorro(Animal):\n",
    "    def falar(self):\n",
    "        print(\"Au Au!\")\n",
    "\n",
    "dog = Cachorro(\"Rex\")\n",
    "dog.falar()\n",
    "\n",
    "## 🔗 Polimorfismo\n",
    "\n",
    "Objetos de diferentes classes podem ter métodos com o **mesmo nome**, mas comportamentos diferentes.\n",
    "\n",
    "```python\n",
    "animais = [Cachorro(\"Rex\"), Animal(\"Bicho\")]\n",
    "\n",
    "for animal in animais:\n",
    "    animal.falar()  # cada um executa seu próprio método\n",
    "\n",
    "## 🏷️ Métodos e Atributos Especiais\n",
    "\n",
    "| Nome       | Descrição                               |\n",
    "|------------|---------------------------------------|\n",
    "| `__init__` | Construtor da classe                   |\n",
    "| `__str__`  | Representação em string do objeto     |\n",
    "| `__len__`  | Retorna o tamanho (quando aplicável)  |\n",
    "| `__add__`  | Define comportamento para o operador `+` |\n",
    "\n",
    "```python\n",
    "class Produto:\n",
    "    def __init__(self, nome, preco):\n",
    "        self.nome = nome\n",
    "        self.preco = preco\n",
    "\n",
    "    def __str__(self):\n",
    "        return f\"{self.nome} - R$ {self.preco:.2f}\"\n",
    "\n",
    "p = Produto(\"Livro\", 29.90)\n",
    "print(p)  # Chama automaticamente __str__\n",
    "\n",
    "\n",
    "## 🏆 Resumo das Vantagens da POO\n",
    "\n",
    "- ✅ Organização do código  \n",
    "- ✅ Reutilização (herança)  \n",
    "- ✅ Facilita manutenção  \n",
    "- ✅ Código mais próximo do mundo real  \n",
    "\n"
   ]
  },
  {
   "cell_type": "code",
   "execution_count": null,
   "id": "8d8de903-0ea0-4795-81b8-2f3f6f2a8350",
   "metadata": {},
   "outputs": [],
   "source": []
  }
 ],
 "metadata": {
  "kernelspec": {
   "display_name": "Python [conda env:base] *",
   "language": "python",
   "name": "conda-base-py"
  },
  "language_info": {
   "codemirror_mode": {
    "name": "ipython",
    "version": 3
   },
   "file_extension": ".py",
   "mimetype": "text/x-python",
   "name": "python",
   "nbconvert_exporter": "python",
   "pygments_lexer": "ipython3",
   "version": "3.13.5"
  },
  "widgets": {
   "application/vnd.jupyter.widget-state+json": {
    "state": {},
    "version_major": 2,
    "version_minor": 0
   }
  }
 },
 "nbformat": 4,
 "nbformat_minor": 5
}
