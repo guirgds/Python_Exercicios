{
 "cells": [
  {
   "cell_type": "code",
   "execution_count": 1,
   "id": "eed60471-3881-45c2-b6d9-dc6065e55b63",
   "metadata": {},
   "outputs": [
    {
     "name": "stdout",
     "output_type": "stream",
     "text": [
      "Meu primeiro notebook\n"
     ]
    }
   ],
   "source": []
  },
  {
   "cell_type": "markdown",
   "id": "57b3126d-3ae9-4486-9e1d-9b1d06fb13c5",
   "metadata": {},
   "source": [
    "# Cálculo da Média Ponderada\n",
    "\n",
    "Leia dois valores de ponto flutuante de dupla precisão `x` e `y`, que correspondem a duas notas de um aluno.\n",
    "\n",
    "Calcule a média ponderada do aluno, sabendo que a nota `x` tem peso 3.5 e a nota `y` tem peso 7.5.\n",
    "\n",
    "A fórmula da média é:\n",
    "\n",
    "$$\n",
    "\\text{Média} = \\frac{x \\times 3.5 + y \\times 7.5}{11}\n",
    "$$\n",
    "\n",
    "O resultado deve ser exibido com 5 casas decimais.\n"
   ]
  },
  {
   "cell_type": "code",
   "execution_count": 9,
   "id": "5612ae4a-e51e-4380-a9c7-c930ade86038",
   "metadata": {},
   "outputs": [
    {
     "name": "stdin",
     "output_type": "stream",
     "text": [
      " 5\n",
      " 5\n"
     ]
    },
    {
     "name": "stdout",
     "output_type": "stream",
     "text": [
      "MEDIA = 5.00000\n"
     ]
    }
   ],
   "source": [
    "x = float(input())\n",
    "y = float(input())\n",
    "\n",
    "media = (x * 3.5 + y * 7.5) / 11\n",
    "\n",
    "print(f'MEDIA = {media:.5f}')\n"
   ]
  },
  {
   "cell_type": "code",
   "execution_count": null,
   "id": "d69df0c3-df32-4614-bc27-366456f70e9c",
   "metadata": {},
   "outputs": [],
   "source": []
  }
 ],
 "metadata": {
  "kernelspec": {
   "display_name": "Python [conda env:base] *",
   "language": "python",
   "name": "conda-base-py"
  },
  "language_info": {
   "codemirror_mode": {
    "name": "ipython",
    "version": 3
   },
   "file_extension": ".py",
   "mimetype": "text/x-python",
   "name": "python",
   "nbconvert_exporter": "python",
   "pygments_lexer": "ipython3",
   "version": "3.13.5"
  },
  "widgets": {
   "application/vnd.jupyter.widget-state+json": {
    "state": {},
    "version_major": 2,
    "version_minor": 0
   }
  }
 },
 "nbformat": 4,
 "nbformat_minor": 5
}
